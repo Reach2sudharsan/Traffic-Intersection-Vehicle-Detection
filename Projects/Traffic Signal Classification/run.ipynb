{
 "cells": [
  {
   "cell_type": "markdown",
   "metadata": {},
   "source": [
    "### Imports"
   ]
  },
  {
   "cell_type": "code",
   "execution_count": 129,
   "metadata": {},
   "outputs": [],
   "source": [
    "import sys\n",
    "import os\n",
    "\n",
    "# Get the current working directory\n",
    "current_dir = os.getcwd()\n",
    "\n",
    "# Move two directories up to reach the parent directory of 'Projects'\n",
    "parent_dir = os.path.abspath(os.path.join(current_dir, '..', '..'))\n",
    "\n",
    "# Add the parent directory to the Python path\n",
    "sys.path.append(parent_dir)"
   ]
  },
  {
   "cell_type": "code",
   "execution_count": 130,
   "metadata": {},
   "outputs": [],
   "source": [
    "from datasets.traffic_signs_preprocessed.datasets_preparing import *\n",
    "import matplotlib.pyplot as plt\n",
    "import seaborn as sns\n",
    "import pickle\n",
    "import cv2"
   ]
  },
  {
   "cell_type": "markdown",
   "metadata": {},
   "source": [
    "### Previewing Original Dataset"
   ]
  },
  {
   "cell_type": "code",
   "execution_count": 131,
   "metadata": {},
   "outputs": [
    {
     "name": "stdout",
     "output_type": "stream",
     "text": [
      "/Users/sudharsangopalakrishnan/SmarTransit/Projects/Traffic Signal Classification\n"
     ]
    }
   ],
   "source": [
    "import os\n",
    "print(os.getcwd())"
   ]
  },
  {
   "cell_type": "code",
   "execution_count": 132,
   "metadata": {},
   "outputs": [],
   "source": [
    "# Assume the current directory is 'Projects/P1'\n",
    "# Move up two directories and then specify the path to the pickle file\n",
    "with open(\"../../datasets/traffic_signs_preprocessed/data0.pickle\", \"rb\") as f:\n",
    "    data = pickle.load(f)"
   ]
  },
  {
   "cell_type": "code",
   "execution_count": 133,
   "metadata": {},
   "outputs": [
    {
     "data": {
      "text/plain": [
       "dict_keys(['x_test', 'y_validation', 'x_validation', 'labels', 'x_train', 'y_test', 'y_train'])"
      ]
     },
     "execution_count": 133,
     "metadata": {},
     "output_type": "execute_result"
    }
   ],
   "source": [
    "data.keys()"
   ]
  },
  {
   "cell_type": "code",
   "execution_count": 134,
   "metadata": {},
   "outputs": [],
   "source": [
    "X_train = data[\"x_train\"]\n",
    "X_valid = data[\"x_validation\"]\n",
    "X_test = data[\"x_test\"]\n",
    "\n",
    "y_train = data[\"y_train\"]\n",
    "y_valid = data[\"y_validation\"]\n",
    "y_test = data[\"y_test\"]"
   ]
  },
  {
   "cell_type": "code",
   "execution_count": 135,
   "metadata": {},
   "outputs": [
    {
     "data": {
      "text/plain": [
       "numpy.ndarray"
      ]
     },
     "execution_count": 135,
     "metadata": {},
     "output_type": "execute_result"
    }
   ],
   "source": [
    "type(X_valid)"
   ]
  },
  {
   "cell_type": "code",
   "execution_count": 136,
   "metadata": {},
   "outputs": [
    {
     "data": {
      "text/plain": [
       "((86989, 3, 32, 32), (4410, 3, 32, 32), (12630, 3, 32, 32))"
      ]
     },
     "execution_count": 136,
     "metadata": {},
     "output_type": "execute_result"
    }
   ],
   "source": [
    "X_train.shape, X_valid.shape, X_test.shape"
   ]
  },
  {
   "cell_type": "code",
   "execution_count": 137,
   "metadata": {},
   "outputs": [
    {
     "name": "stdout",
     "output_type": "stream",
     "text": [
      "Data Summary\n",
      "------------\n",
      "Train: 83.62%\n",
      "Valid: 4.24%\n",
      "Test: 12.14%\n"
     ]
    }
   ],
   "source": [
    "total_size = len(X_train) + len(X_valid) + len(X_test)\n",
    "train_prp = len(X_train) / total_size\n",
    "valid_prp = len(X_valid) / total_size\n",
    "test_prp = len(X_test) / total_size\n",
    "print(\"Data Summary\")\n",
    "print(\"------------\")\n",
    "print(f\"Train: {train_prp*100:.2f}%\\nValid: {valid_prp*100:.2f}%\\nTest: {test_prp*100:.2f}%\")"
   ]
  },
  {
   "cell_type": "code",
   "execution_count": 138,
   "metadata": {},
   "outputs": [],
   "source": [
    "label_list = label_text(\"../../datasets/traffic_signs_preprocessed/label_names.csv\")"
   ]
  },
  {
   "cell_type": "code",
   "execution_count": 139,
   "metadata": {},
   "outputs": [],
   "source": [
    "def plot_sample_image(X_train, y_train, label_list, index, alpha=1.5, beta=10):\n",
    "    image = np.transpose(X_train[index], (1, 2, 0))\n",
    "\n",
    "    # call convertScaleAbs function\n",
    "    adjusted = cv2.convertScaleAbs(image, alpha=alpha, beta=beta)\n",
    "    sns.set_style(\"whitegrid\")\n",
    "    plt.imshow(adjusted)\n",
    "    plt.title(f\"Sign: {label_list[y_train[index]]}\")\n",
    "    plt.show()"
   ]
  },
  {
   "cell_type": "code",
   "execution_count": 140,
   "metadata": {},
   "outputs": [
    {
     "data": {
      "image/png": "[encoded data removed]",
      "text/plain": [
       "<Figure size 640x480 with 1 Axes>"
      ]
     },
     "metadata": {},
     "output_type": "display_data"
    }
   ],
   "source": [
    "plot_sample_image(X_train, y_train, label_list, index=209, alpha=1.5, beta=10)"
   ]
  },
  {
   "cell_type": "markdown",
   "metadata": {},
   "source": [
    "### Prepare Data"
   ]
  },
  {
   "cell_type": "code",
   "execution_count": null,
   "metadata": {},
   "outputs": [],
   "source": [
    "# Train, Valid, Test Files\n",
    "train_file = \"../../datasets/traffic_signs_preprocessed/train.pickle\"\n",
    "valid_file = \"../../datasets/traffic_signs_preprocessed/valid.pickle\"\n",
    "test_file = \"../../datasets/traffic_signs_preprocessed/test.pickle\""
   ]
  },
  {
   "cell_type": "code",
   "execution_count": null,
   "metadata": {},
   "outputs": [],
   "source": [
    "X_train, y_train, s_train, c_train = load_rgb_data(train_file)\n",
    "X_valid, y_valid, s_valid, c_valid = load_rgb_data(valid_file)\n",
    "X_test, y_test, s_test, c_test = load_rgb_data(test_file)"
   ]
  },
  {
   "cell_type": "code",
   "execution_count": null,
   "metadata": {},
   "outputs": [],
   "source": [
    "total_size = len(X_train) + len(X_valid) + len(X_test)\n",
    "train_prp = len(X_train) / total_size\n",
    "valid_prp = len(X_valid) / total_size\n",
    "test_prp = len(X_test) / total_size\n",
    "print(\"Data Summary\")\n",
    "print(\"------------\")\n",
    "print(f\"Train: {train_prp*100:.2f}%\\nValid: {valid_prp*100:.2f}%\\nTest: {test_prp*100:.2f}%\")"
   ]
  },
  {
   "cell_type": "markdown",
   "metadata": {},
   "source": [
    "### Prepare Dataset"
   ]
  },
  {
   "cell_type": "code",
   "execution_count": 145,
   "metadata": {},
   "outputs": [],
   "source": [
    "import torch\n",
    "import torchvision\n",
    "import torch.nn as nn\n",
    "import torch.nn.functional as F\n",
    "from torchvision import transforms,models,datasets\n",
    "import matplotlib.pyplot as plt\n",
    "from PIL import Image\n",
    "from torch import optim\n",
    "device = 'cuda' if torch.cuda.is_available() else 'cpu'\n",
    "import cv2, glob, numpy as np, pandas as pd\n",
    "from glob import glob\n",
    "import torchvision.transforms as transforms\n",
    "from torch.utils.data import DataLoader, Dataset\n",
    "from skimage.transform import resize"
   ]
  },
  {
   "cell_type": "code",
   "execution_count": 162,
   "metadata": {},
   "outputs": [],
   "source": [
    "class TrafficDataset(Dataset):\n",
    "    def __init__(self, file, X_size, y_size, type):\n",
    "        self.file = file\n",
    "        self.X_size = X_size\n",
    "        self.y_size = y_size\n",
    "        \n",
    "        with open(self.file, 'rb') as f:\n",
    "            self.data = pickle.load(f)\n",
    "       \n",
    "        self.X = None\n",
    "        self.y = None\n",
    "        if type==\"train\":\n",
    "            self.X = self.data[\"x_train\"]\n",
    "            self.y = self.data[\"y_train\"]\n",
    "        elif type==\"valid\":\n",
    "            self.X = self.data[\"x_validation\"]\n",
    "            self.y = self.data[\"y_validation\"]\n",
    "        elif type==\"test\":\n",
    "            self.X = self.data[\"x_test\"]\n",
    "            self.y = self.data[\"y_test\"]\n",
    "\n",
    "        self.length = len(self.X)\n",
    "    \n",
    "    def __len__(self):\n",
    "        return self.length\n",
    "\n",
    "    def __getitem__(self, ix):\n",
    "        image = self.X[ix]\n",
    "        image_resized = resize(image, (3, self.X_size, self.y_size))\n",
    "        return torch.tensor(image_resized).float().to(device), torch.tensor(self.y[ix]).float().to(device)\n",
    "    \n",
    "    # def __str__(self):\n",
    "    #     total_size = len(self.X_train) + len(self.X_valid) + len(self.X_test)\n",
    "    #     train_prp = len(self.X_train) / total_size\n",
    "    #     valid_prp = len(self.X_valid) / total_size\n",
    "    #     test_prp = len(self.X_test) / total_size\n",
    "    #     return f\"Data Summary\\n------------\\nTrain: {train_prp*100:.2f}%\\nValid: {valid_prp*100:.2f}%\\nTest: {test_prp*100:.2f}%\""
   ]
  },
  {
   "cell_type": "code",
   "execution_count": 152,
   "metadata": {},
   "outputs": [],
   "source": [
    "file = \"../../datasets/traffic_signs_preprocessed/data3.pickle\"\n",
    "X_size = 224\n",
    "y_size = 224\n",
    "\n",
    "td = TrafficDataset(file=file, X_size=X_size, y_size=y_size)"
   ]
  },
  {
   "cell_type": "code",
   "execution_count": 153,
   "metadata": {},
   "outputs": [
    {
     "name": "stdout",
     "output_type": "stream",
     "text": [
      "Data Summary\n",
      "------------\n",
      "Train: 83.62%\n",
      "Valid: 4.24%\n",
      "Test: 12.14%\n"
     ]
    }
   ],
   "source": [
    "print(td)"
   ]
  },
  {
   "cell_type": "code",
   "execution_count": 154,
   "metadata": {},
   "outputs": [
    {
     "data": {
      "image/png": "[encoded data removed]",
      "text/plain": [
       "<Figure size 640x480 with 1 Axes>"
      ]
     },
     "metadata": {},
     "output_type": "display_data"
    }
   ],
   "source": [
    "index = 1000\n",
    "image = td[index][0].numpy()\n",
    "image = np.transpose(image, (1, 2, 0))\n",
    "adjusted = cv2.convertScaleAbs(image, alpha=2.5, beta=20)\n",
    "sns.set_style(\"whitegrid\")\n",
    "plt.imshow(adjusted)\n",
    "plt.title(f\"Sign: {label_list[int(td[index][1].item())]}\")\n",
    "plt.show()"
   ]
  },
  {
   "cell_type": "markdown",
   "metadata": {},
   "source": [
    "### Load VGG Model"
   ]
  },
  {
   "cell_type": "code",
   "execution_count": 155,
   "metadata": {},
   "outputs": [],
   "source": [
    "import torchvision\n",
    "import torch.nn as nn\n",
    "import torch\n",
    "import torch.nn.functional as F\n",
    "from torchvision import transforms,models,datasets\n",
    "from torchsummary import summary\n",
    "device = 'cuda' if torch.cuda.is_available() else 'cpu'"
   ]
  },
  {
   "cell_type": "code",
   "execution_count": 160,
   "metadata": {},
   "outputs": [],
   "source": [
    "def get_model():\n",
    "    model = models.vgg16(pretrained=True).to(device)\n",
    "    for param in model.parameters():\n",
    "        param.requires_grad = False\n",
    "    model.avgpool = nn.AdaptiveAvgPool2d(output_size=(1,1))\n",
    "    model.classifier = nn.Sequential(nn.Flatten(),\n",
    "                                   nn.Linear(512, 128),\n",
    "                                   nn.ReLU(),\n",
    "                                   nn.Dropout(0.2),\n",
    "                                   nn.Linear(128, 1),\n",
    "                                   nn.Sigmoid())\n",
    "\n",
    "    loss_fn = nn.BCELoss()\n",
    "    optimizer = torch.optim.Adam(model.parameters(),lr= 1e-3)\n",
    "    return model.to(device), loss_fn, optimizer"
   ]
  },
  {
   "cell_type": "code",
   "execution_count": 161,
   "metadata": {},
   "outputs": [
    {
     "name": "stderr",
     "output_type": "stream",
     "text": [
      "/Users/sudharsangopalakrishnan/Library/Python/3.9/lib/python/site-packages/torchvision/models/_utils.py:208: UserWarning: The parameter 'pretrained' is deprecated since 0.13 and may be removed in the future, please use 'weights' instead.\n",
      "  warnings.warn(\n",
      "/Users/sudharsangopalakrishnan/Library/Python/3.9/lib/python/site-packages/torchvision/models/_utils.py:223: UserWarning: Arguments other than a weight enum or `None` for 'weights' are deprecated since 0.13 and may be removed in the future. The current behavior is equivalent to passing `weights=VGG16_Weights.IMAGENET1K_V1`. You can also use `weights=VGG16_Weights.DEFAULT` to get the most up-to-date weights.\n",
      "  warnings.warn(msg)\n"
     ]
    },
    {
     "name": "stdout",
     "output_type": "stream",
     "text": [
      "----------------------------------------------------------------\n",
      "        Layer (type)               Output Shape         Param #\n",
      "================================================================\n",
      "            Conv2d-1         [-1, 64, 224, 224]           1,792\n",
      "              ReLU-2         [-1, 64, 224, 224]               0\n",
      "            Conv2d-3         [-1, 64, 224, 224]          36,928\n",
      "              ReLU-4         [-1, 64, 224, 224]               0\n",
      "         MaxPool2d-5         [-1, 64, 112, 112]               0\n",
      "            Conv2d-6        [-1, 128, 112, 112]          73,856\n",
      "              ReLU-7        [-1, 128, 112, 112]               0\n",
      "            Conv2d-8        [-1, 128, 112, 112]         147,584\n",
      "              ReLU-9        [-1, 128, 112, 112]               0\n",
      "        MaxPool2d-10          [-1, 128, 56, 56]               0\n",
      "           Conv2d-11          [-1, 256, 56, 56]         295,168\n",
      "             ReLU-12          [-1, 256, 56, 56]               0\n",
      "           Conv2d-13          [-1, 256, 56, 56]         590,080\n",
      "             ReLU-14          [-1, 256, 56, 56]               0\n",
      "           Conv2d-15          [-1, 256, 56, 56]         590,080\n",
      "             ReLU-16          [-1, 256, 56, 56]               0\n",
      "        MaxPool2d-17          [-1, 256, 28, 28]               0\n",
      "           Conv2d-18          [-1, 512, 28, 28]       1,180,160\n",
      "             ReLU-19          [-1, 512, 28, 28]               0\n",
      "           Conv2d-20          [-1, 512, 28, 28]       2,359,808\n",
      "             ReLU-21          [-1, 512, 28, 28]               0\n",
      "           Conv2d-22          [-1, 512, 28, 28]       2,359,808\n",
      "             ReLU-23          [-1, 512, 28, 28]               0\n",
      "        MaxPool2d-24          [-1, 512, 14, 14]               0\n",
      "           Conv2d-25          [-1, 512, 14, 14]       2,359,808\n",
      "             ReLU-26          [-1, 512, 14, 14]               0\n",
      "           Conv2d-27          [-1, 512, 14, 14]       2,359,808\n",
      "             ReLU-28          [-1, 512, 14, 14]               0\n",
      "           Conv2d-29          [-1, 512, 14, 14]       2,359,808\n",
      "             ReLU-30          [-1, 512, 14, 14]               0\n",
      "        MaxPool2d-31            [-1, 512, 7, 7]               0\n",
      "AdaptiveAvgPool2d-32            [-1, 512, 1, 1]               0\n",
      "          Flatten-33                  [-1, 512]               0\n",
      "           Linear-34                  [-1, 128]          65,664\n",
      "             ReLU-35                  [-1, 128]               0\n",
      "          Dropout-36                  [-1, 128]               0\n",
      "           Linear-37                    [-1, 1]             129\n",
      "          Sigmoid-38                    [-1, 1]               0\n",
      "================================================================\n",
      "Total params: 14,780,481\n",
      "Trainable params: 65,793\n",
      "Non-trainable params: 14,714,688\n",
      "----------------------------------------------------------------\n",
      "Input size (MB): 0.57\n",
      "Forward/backward pass size (MB): 218.41\n",
      "Params size (MB): 56.38\n",
      "Estimated Total Size (MB): 275.36\n",
      "----------------------------------------------------------------\n"
     ]
    }
   ],
   "source": [
    "input_size = (3, 224, 224)\n",
    "model, criterion, optimizer = get_model()\n",
    "summary(model, input_size=input_size)"
   ]
  },
  {
   "cell_type": "code",
   "execution_count": null,
   "metadata": {},
   "outputs": [],
   "source": [
    "def train_batch(x, y, model, optimizer, loss_fn):\n",
    "    model.train()\n",
    "    prediction = model(x)\n",
    "    batch_loss = loss_fn(prediction, y)\n",
    "    batch_loss.backward()\n",
    "    optimizer.step()\n",
    "    optimizer.zero_grad()\n",
    "    return batch_loss.item()\n",
    "\n",
    "@torch.no_grad()\n",
    "def accuracy(x, y, model):\n",
    "    model.eval()\n",
    "    prediction = model(x)\n",
    "    is_correct = (prediction > 0.5) == y\n",
    "    return is_correct.cpu().numpy().tolist()"
   ]
  }
 ],
 "metadata": {
  "kernelspec": {
   "display_name": "Python 3",
   "language": "python",
   "name": "python3"
  },
  "language_info": {
   "codemirror_mode": {
    "name": "ipython",
    "version": 3
   },
   "file_extension": ".py",
   "mimetype": "text/x-python",
   "name": "python",
   "nbconvert_exporter": "python",
   "pygments_lexer": "ipython3",
   "version": "3.9.6"
  }
 },
 "nbformat": 4,
 "nbformat_minor": 2
}
