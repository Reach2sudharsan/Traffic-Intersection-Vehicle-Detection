{
 "cells": [
  {
   "cell_type": "markdown",
   "metadata": {},
   "source": [
    "### Imports"
   ]
  },
  {
   "cell_type": "code",
   "execution_count": 4,
   "metadata": {},
   "outputs": [],
   "source": [
    "import sys\n",
    "import os\n",
    "\n",
    "# Get the current working directory\n",
    "current_dir = os.getcwd()\n",
    "\n",
    "# Move two directories up to reach the parent directory of 'Projects'\n",
    "parent_dir = os.path.abspath(os.path.join(current_dir, '..', '..'))\n",
    "\n",
    "# Add the parent directory to the Python path\n",
    "sys.path.append(parent_dir)"
   ]
  },
  {
   "cell_type": "code",
   "execution_count": 6,
   "metadata": {},
   "outputs": [],
   "source": [
    "from datasets.traffic_signs_preprocessed.datasets_preparing import *\n",
    "import matplotlib.pyplot as plt\n",
    "import seaborn as sns\n",
    "import pickle\n",
    "import cv2"
   ]
  },
  {
   "cell_type": "markdown",
   "metadata": {},
   "source": [
    "### Previewing Original Dataset"
   ]
  },
  {
   "cell_type": "code",
   "execution_count": 10,
   "metadata": {},
   "outputs": [
    {
     "name": "stdout",
     "output_type": "stream",
     "text": [
      "/Users/sudharsangopalakrishnan/SmarTransit/Projects/Traffic Signal Classification\n"
     ]
    }
   ],
   "source": [
    "import os\n",
    "print(os.getcwd())"
   ]
  },
  {
   "cell_type": "code",
   "execution_count": 11,
   "metadata": {},
   "outputs": [],
   "source": [
    "# Assume the current directory is 'Projects/P1'\n",
    "# Move up two directories and then specify the path to the pickle file\n",
    "with open(\"../../datasets/traffic_signs_preprocessed/data0.pickle\", \"rb\") as f:\n",
    "    data = pickle.load(f)"
   ]
  },
  {
   "cell_type": "code",
   "execution_count": 12,
   "metadata": {},
   "outputs": [
    {
     "data": {
      "text/plain": [
       "dict_keys(['x_test', 'y_validation', 'x_validation', 'labels', 'x_train', 'y_test', 'y_train'])"
      ]
     },
     "execution_count": 12,
     "metadata": {},
     "output_type": "execute_result"
    }
   ],
   "source": [
    "data.keys()"
   ]
  },
  {
   "cell_type": "code",
   "execution_count": 13,
   "metadata": {},
   "outputs": [],
   "source": [
    "X_train = data[\"x_train\"]\n",
    "X_valid = data[\"x_validation\"]\n",
    "X_test = data[\"x_test\"]\n",
    "\n",
    "y_train = data[\"y_train\"]\n",
    "y_valid = data[\"y_validation\"]\n",
    "y_test = data[\"y_test\"]"
   ]
  },
  {
   "cell_type": "code",
   "execution_count": 14,
   "metadata": {},
   "outputs": [
    {
     "data": {
      "text/plain": [
       "((86989, 3, 32, 32), (4410, 3, 32, 32), (12630, 3, 32, 32))"
      ]
     },
     "execution_count": 14,
     "metadata": {},
     "output_type": "execute_result"
    }
   ],
   "source": [
    "X_train.shape, X_valid.shape, X_test.shape"
   ]
  },
  {
   "cell_type": "code",
   "execution_count": 15,
   "metadata": {},
   "outputs": [
    {
     "name": "stdout",
     "output_type": "stream",
     "text": [
      "Data Summary\n",
      "------------\n",
      "Train: 83.62%\n",
      "Valid: 4.24%\n",
      "Test: 12.14%\n"
     ]
    }
   ],
   "source": [
    "total_size = len(X_train) + len(X_valid) + len(X_test)\n",
    "train_prp = len(X_train) / total_size\n",
    "valid_prp = len(X_valid) / total_size\n",
    "test_prp = len(X_test) / total_size\n",
    "print(\"Data Summary\")\n",
    "print(\"------------\")\n",
    "print(f\"Train: {train_prp*100:.2f}%\\nValid: {valid_prp*100:.2f}%\\nTest: {test_prp*100:.2f}%\")"
   ]
  },
  {
   "cell_type": "code",
   "execution_count": 17,
   "metadata": {},
   "outputs": [],
   "source": [
    "label_list = label_text(\"../../datasets/traffic_signs_preprocessed/label_names.csv\")"
   ]
  },
  {
   "cell_type": "code",
   "execution_count": 18,
   "metadata": {},
   "outputs": [],
   "source": [
    "def plot_sample_image(X_train, y_train, label_list, index, alpha=1.5, beta=10):\n",
    "    image = np.transpose(X_train[index], (1, 2, 0))\n",
    "\n",
    "    # call convertScaleAbs function\n",
    "    adjusted = cv2.convertScaleAbs(image, alpha=alpha, beta=beta)\n",
    "    sns.set_style(\"whitegrid\")\n",
    "    plt.imshow(adjusted)\n",
    "    plt.title(f\"Sign: {label_list[y_train[index]]}\")\n",
    "    plt.show()"
   ]
  },
  {
   "cell_type": "code",
   "execution_count": 19,
   "metadata": {},
   "outputs": [
    {
     "data": {
      "image/png": "[encoded data removed]",
      "text/plain": [
       "<Figure size 640x480 with 1 Axes>"
      ]
     },
     "metadata": {},
     "output_type": "display_data"
    }
   ],
   "source": [
    "plot_sample_image(X_train, y_train, label_list, index=209, alpha=1.5, beta=10)"
   ]
  },
  {
   "cell_type": "markdown",
   "metadata": {},
   "source": [
    "### Prepare Data"
   ]
  },
  {
   "cell_type": "code",
   "execution_count": 20,
   "metadata": {},
   "outputs": [],
   "source": [
    "# Train, Valid, Test Files\n",
    "train_file = \"../../datasets/traffic_signs_preprocessed/train.pickle\"\n",
    "valid_file = \"../../datasets/traffic_signs_preprocessed/valid.pickle\"\n",
    "test_file = \"../../datasets/traffic_signs_preprocessed/test.pickle\""
   ]
  },
  {
   "cell_type": "code",
   "execution_count": 21,
   "metadata": {},
   "outputs": [],
   "source": [
    "X_train, y_train, s_train, c_train = load_rgb_data(train_file)\n",
    "X_valid, y_valid, s_valid, c_valid = load_rgb_data(valid_file)\n",
    "X_test, y_test, s_test, c_test = load_rgb_data(test_file)"
   ]
  },
  {
   "cell_type": "code",
   "execution_count": 22,
   "metadata": {},
   "outputs": [
    {
     "name": "stdout",
     "output_type": "stream",
     "text": [
      "Data Summary\n",
      "------------\n",
      "Train: 67.13%\n",
      "Valid: 8.51%\n",
      "Test: 24.36%\n"
     ]
    }
   ],
   "source": [
    "total_size = len(X_train) + len(X_valid) + len(X_test)\n",
    "train_prp = len(X_train) / total_size\n",
    "valid_prp = len(X_valid) / total_size\n",
    "test_prp = len(X_test) / total_size\n",
    "print(\"Data Summary\")\n",
    "print(\"------------\")\n",
    "print(f\"Train: {train_prp*100:.2f}%\\nValid: {valid_prp*100:.2f}%\\nTest: {test_prp*100:.2f}%\")"
   ]
  },
  {
   "cell_type": "code",
   "execution_count": null,
   "metadata": {},
   "outputs": [],
   "source": []
  }
 ],
 "metadata": {
  "kernelspec": {
   "display_name": "Python 3",
   "language": "python",
   "name": "python3"
  },
  "language_info": {
   "codemirror_mode": {
    "name": "ipython",
    "version": 3
   },
   "file_extension": ".py",
   "mimetype": "text/x-python",
   "name": "python",
   "nbconvert_exporter": "python",
   "pygments_lexer": "ipython3",
   "version": "3.9.6"
  }
 },
 "nbformat": 4,
 "nbformat_minor": 2
}
