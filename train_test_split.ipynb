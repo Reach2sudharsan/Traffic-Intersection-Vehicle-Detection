{
 "cells": [
  {
   "cell_type": "code",
   "execution_count": 73,
   "metadata": {},
   "outputs": [],
   "source": [
    "import os \n",
    "import shutil"
   ]
  },
  {
   "cell_type": "code",
   "execution_count": 78,
   "metadata": {},
   "outputs": [],
   "source": [
    "screenshots_list = os.listdir(\"traffic_sim/screenshots\")\n",
    "labels_list = os.listdir(\"traffic_sim/labels\")"
   ]
  },
  {
   "cell_type": "code",
   "execution_count": 79,
   "metadata": {},
   "outputs": [],
   "source": [
    "images_list = sorted(screenshots_list)[::2]\n",
    "labels_list = sorted(labels_list)"
   ]
  },
  {
   "cell_type": "code",
   "execution_count": 80,
   "metadata": {},
   "outputs": [],
   "source": [
    "dataset_path = \"SimTrafficView5K\"\n",
    "\n",
    "# Paths\n",
    "screenshots_path = \"traffic_sim/screenshots\"\n",
    "labels_path = \"traffic_sim/labels\"\n",
    "\n",
    "train_images_path = os.path.join(dataset_path, \"train\", \"images\")\n",
    "train_labels_path = os.path.join(dataset_path, \"train\", \"labels\")\n",
    "valid_images_path = os.path.join(dataset_path, \"valid\", \"images\")\n",
    "valid_labels_path = os.path.join(dataset_path, \"valid\", \"labels\")\n",
    "test_images_path = os.path.join(dataset_path, \"test\", \"images\")\n",
    "test_labels_path = os.path.join(dataset_path, \"test\", \"labels\")\n",
    "\n",
    "# Create sample directories if they don't exist\n",
    "os.makedirs(train_images_path, exist_ok=True)\n",
    "os.makedirs(train_labels_path, exist_ok=True)\n",
    "os.makedirs(valid_images_path, exist_ok=True)\n",
    "os.makedirs(valid_labels_path, exist_ok=True)\n",
    "os.makedirs(test_images_path, exist_ok=True)\n",
    "os.makedirs(test_labels_path, exist_ok=True)"
   ]
  },
  {
   "cell_type": "code",
   "execution_count": 81,
   "metadata": {},
   "outputs": [],
   "source": [
    "train_prp = 0.7 \n",
    "valid_prp = 0.2 \n",
    "test_prp = 0.1"
   ]
  },
  {
   "cell_type": "code",
   "execution_count": 82,
   "metadata": {},
   "outputs": [],
   "source": [
    "train_images_list = images_list[:int(train_prp*len(images_list))]\n",
    "valid_images_list = images_list[int(train_prp*len(images_list)):int((train_prp+valid_prp)*len(images_list))]\n",
    "test_images_list = images_list[int((train_prp+valid_prp)*len(images_list)):]\n",
    "\n",
    "train_labels_list = labels_list[:int(train_prp*len(labels_list))]\n",
    "valid_labels_list = labels_list[int(train_prp*len(labels_list)):int((train_prp+valid_prp)*len(labels_list))]\n",
    "test_labels_list = labels_list[int((train_prp+valid_prp)*len(labels_list)):]"
   ]
  },
  {
   "cell_type": "code",
   "execution_count": 94,
   "metadata": {},
   "outputs": [
    {
     "data": {
      "text/plain": [
       "(5000, 5000)"
      ]
     },
     "execution_count": 94,
     "metadata": {},
     "output_type": "execute_result"
    }
   ],
   "source": [
    "len(train_images_list)+len(valid_images_list)+len(test_images_list),len(train_labels_list)+len(valid_labels_list)+len(test_labels_list)"
   ]
  },
  {
   "cell_type": "code",
   "execution_count": 90,
   "metadata": {},
   "outputs": [
    {
     "name": "stdout",
     "output_type": "stream",
     "text": [
      "Deleted all files in SimTrafficView5K/train/images\n",
      "Deleted all files in SimTrafficView5K/train/labels\n",
      "Deleted all files in SimTrafficView5K/valid/images\n",
      "Deleted all files in SimTrafficView5K/valid/labels\n",
      "Deleted all files in SimTrafficView5K/test/images\n",
      "Deleted all files in SimTrafficView5K/test/labels\n"
     ]
    }
   ],
   "source": [
    "import os\n",
    "import shutil\n",
    "\n",
    "def delete_files_in_folders(base_path):\n",
    "    \"\"\"\n",
    "    Deletes all files in the 'images' and 'labels' subfolders under train, valid, and test directories.\n",
    "    \"\"\"\n",
    "    for dataset_type in ['train', 'valid', 'test']:\n",
    "        for folder_type in ['images', 'labels']:\n",
    "            folder_path = os.path.join(base_path, dataset_type, folder_type)\n",
    "            \n",
    "            if os.path.exists(folder_path):\n",
    "                # Delete all files in the folder\n",
    "                for filename in os.listdir(folder_path):\n",
    "                    file_path = os.path.join(folder_path, filename)\n",
    "                    try:\n",
    "                        if os.path.isfile(file_path):\n",
    "                            os.remove(file_path)\n",
    "                        elif os.path.isdir(file_path):\n",
    "                            shutil.rmtree(file_path)\n",
    "                    except Exception as e:\n",
    "                        print(f\"Error deleting {file_path}: {e}\")\n",
    "                print(f\"Deleted all files in {folder_path}\")\n",
    "            else:\n",
    "                print(f\"Path does not exist: {folder_path}\")\n",
    "\n",
    "if __name__ == \"__main__\":\n",
    "    # Specify the base path for the train, valid, and test directories\n",
    "    base_path = \"SimTrafficView5K\"  # Update this path to the correct base directory\n",
    "    delete_files_in_folders(base_path)"
   ]
  },
  {
   "cell_type": "code",
   "execution_count": 91,
   "metadata": {},
   "outputs": [
    {
     "name": "stdout",
     "output_type": "stream",
     "text": [
      "Relabeling and copying completed successfully.\n"
     ]
    }
   ],
   "source": [
    "import os\n",
    "import shutil\n",
    "\n",
    "def relabel_and_copy(screenshots_path, labels_path, images_list, labels_list, images_dest_path, labels_dest_path):\n",
    "    os.makedirs(images_dest_path, exist_ok=True)\n",
    "    os.makedirs(labels_dest_path, exist_ok=True)\n",
    "\n",
    "    for screenshot, label in zip(images_list, labels_list):\n",
    "        screenshot_src = os.path.join(screenshots_path, screenshot)\n",
    "        label_src = os.path.join(labels_path, os.path.splitext(label)[0]+\".txt\")\n",
    "\n",
    "        # Check if label exists\n",
    "        if not os.path.exists(label_src):\n",
    "            print(f\"Warning: Label file {label_src} not found. Skipping.\")\n",
    "            continue\n",
    "\n",
    "        # Define new paths for copying\n",
    "        screenshot_dest = os.path.join(images_dest_path, screenshot)\n",
    "        label_dest = os.path.join(labels_dest_path, os.path.splitext(screenshot)[0] + os.path.splitext(label)[1])\n",
    "\n",
    "        # Copy screenshot and relabeled label\n",
    "        shutil.copy2(screenshot_src, screenshot_dest)\n",
    "        shutil.copy2(label_src, label_dest)\n",
    "\n",
    "# Paths and lists (example usage)\n",
    "relabel_and_copy(screenshots_path, labels_path, train_images_list, train_labels_list, train_images_path, train_labels_path)\n",
    "relabel_and_copy(screenshots_path, labels_path, valid_images_list, valid_labels_list, valid_images_path, valid_labels_path)\n",
    "relabel_and_copy(screenshots_path, labels_path, test_images_list, test_labels_list, test_images_path, test_labels_path)\n",
    "\n",
    "print(\"Relabeling and copying completed successfully.\")"
   ]
  }
 ],
 "metadata": {
  "kernelspec": {
   "display_name": "sgcvtr",
   "language": "python",
   "name": "python3"
  },
  "language_info": {
   "codemirror_mode": {
    "name": "ipython",
    "version": 3
   },
   "file_extension": ".py",
   "mimetype": "text/x-python",
   "name": "python",
   "nbconvert_exporter": "python",
   "pygments_lexer": "ipython3",
   "version": "3.13.1"
  }
 },
 "nbformat": 4,
 "nbformat_minor": 2
}
